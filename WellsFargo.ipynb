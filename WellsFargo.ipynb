{
 "cells": [
  {
   "cell_type": "code",
   "execution_count": 1,
   "id": "415cecbf",
   "metadata": {},
   "outputs": [
    {
     "name": "stdout",
     "output_type": "stream",
     "text": [
      "Requirement already satisfied: pyspark in c:\\programdata\\anaconda3\\lib\\site-packages (3.2.0)\n",
      "Requirement already satisfied: py4j==0.10.9.2 in c:\\programdata\\anaconda3\\lib\\site-packages (from pyspark) (0.10.9.2)\n"
     ]
    }
   ],
   "source": [
    "!pip install pyspark"
   ]
  },
  {
   "cell_type": "code",
   "execution_count": 46,
   "id": "53012a65",
   "metadata": {},
   "outputs": [
    {
     "name": "stdout",
     "output_type": "stream",
     "text": [
      "Requirement already satisfied: markupsafe==2.0.1 in c:\\programdata\\anaconda3\\lib\\site-packages (2.0.1)\n"
     ]
    }
   ],
   "source": [
    "!python -m pip install --user  markupsafe==2.0.1"
   ]
  },
  {
   "cell_type": "code",
   "execution_count": 2,
   "id": "90944624",
   "metadata": {},
   "outputs": [],
   "source": [
    "from pyspark.sql import SparkSession\n",
    "from pyspark.sql import Row\n",
    "from pyspark.sql.types import StringType, StructType, StructField,IntegerType\n",
    "from pyspark.sql.window import Window\n",
    "from pyspark.sql.functions import row_number,col,lag,when,lit,sum\n",
    "from pyspark.sql import functions as bet\n",
    "from pandas_profiling import ProfileReport"
   ]
  },
  {
   "cell_type": "code",
   "execution_count": 37,
   "id": "c8edbcb8",
   "metadata": {},
   "outputs": [],
   "source": [
    "def coding(spark: SparkSession) -> None:\n",
    "    df = spark.read.csv(\"C:\\\\Users\\\\AG98087\\\\Downloads\\\\tickersData\\\\tickersData.csv\",header=True,inferSchema=True)\n",
    "    df=df.fillna(0)\n",
    "    df.filter(bet.col(\"Date\").between(\"2017-11-24 05:30:00\",\"2017-12-23 05:30:00\")).select(\"ISIN\",\"Mnemonic\",\"SecurityType\",\"EndPrice\",\"Date\")\n",
    "    df.select(\"SecurityType\").distinct().show(50)\n",
    "    #1.How many types of ETF products are available?\n",
    "    df_etf=df.where(df['SecurityType']==\"ETF\").select(\"Mnemonic\").distinct().count()\n",
    "    print(\"First question Answer:\",df_etf)\n",
    "    #2.What are the Top three heavily traded stocks?\n",
    "    df_highest_trade=df.withColumn(\"heavy_trade\",row_number().over(Window.orderBy(col(\"TradedVolume\").desc(),col(\"NumberOfTrades\").desc())))\n",
    "    print(\"Second Question Answer below:\")\n",
    "    df_highest_trade[df_highest_trade[\"heavy_trade\"]<=3].select(\"ISIN\",\"Mnemonic\",\"SecurityType\",\"EndPrice\",\"Date\",\"NumberOfTrades\",\"TradedVolume\").show()\n",
    "    #3.Which stock had the highest number of consecutive up days(in terms of end of the day prices)?what were the assumptions/adjustments that led to your solution?\n",
    "    df_consecutive_ups=df.orderBy(col(\"Date\").asc()).withColumn(\"max_number\",row_number().over(Window.partitionBy(col(\"Date\"),col(\"SecurityType\")).orderBy(col(\"EndPrice\").desc())))\n",
    "    df_consecutive_ups=df_consecutive_ups[df_consecutive_ups[\"max_number\"]==1]\n",
    "    #Up Trend\n",
    "    up=df_consecutive_ups.filter(bet.col(\"Date\").between(\"2017-11-24 05:30:00\",\"2017-12-23 05:30:00\")).select(\"ISIN\",\"Mnemonic\",\"SecurityType\",\"EndPrice\",\"Date\")\n",
    "    up1=up[up[\"SecurityType\"]==\"ETC\"].withColumn(\"lag_column\",lag(\"EndPrice\",offset=1, default=0).over(Window.orderBy(col(\"Date\"))))\n",
    "    up2=up1.withColumn(\"final_result\",when(up1.EndPrice>up1.lag_column,lit(1)).otherwise(0)).withColumn(\"final_answer\",bet.sum(\"final_result\").over(Window.orderBy(col(\"Date\")).rowsBetween(-4,Window.currentRow)))\n",
    "    print(up2[up2[\"final_answer\"]==5].count())\n",
    "    up3=up[up[\"SecurityType\"]==\"ETF\"].withColumn(\"lag_column\",lag(\"EndPrice\",offset=1, default=0).over(Window.orderBy(col(\"Date\"))))\n",
    "    up4=up3.withColumn(\"final_result\",when(up3.EndPrice>up3.lag_column,lit(1)).otherwise(0)).withColumn(\"final_answer\",bet.sum(\"final_result\").over(Window.orderBy(col(\"Date\")).rowsBetween(-4,Window.currentRow)))\n",
    "    print(\"Third Question Answer-Which stock had highest number of Consecutive updays:SecurityType:ETF\")\n",
    "    print(\"Fourth Question Answer-Consecutive updays:SecurityType:ETF,Count:\",up4[up4[\"final_answer\"]==5].count())\n",
    "    up5=up[up[\"SecurityType\"]==\"Common stock\"].withColumn(\"lag_column\",lag(\"EndPrice\",offset=1, default=0).over(Window.orderBy(col(\"Date\"))))\n",
    "    up6=up5.withColumn(\"final_result\",when(up5.EndPrice>up5.lag_column,lit(1)).otherwise(0)).withColumn(\"final_answer\",bet.sum(\"final_result\").over(Window.orderBy(col(\"Date\")).rowsBetween(-4,Window.currentRow)))\n",
    "    print(up6[up6[\"final_answer\"]==5].count())\n",
    "    up7=up[up[\"SecurityType\"]==\"Other\"].withColumn(\"lag_column\",lag(\"EndPrice\",offset=1, default=0).over(Window.orderBy(col(\"Date\"))))\n",
    "    up8=up7.withColumn(\"final_result\",when(up7.EndPrice>up7.lag_column,lit(1)).otherwise(0)).withColumn(\"final_answer\",bet.sum(\"final_result\").over(Window.orderBy(col(\"Date\")).rowsBetween(-4,Window.currentRow)))\n",
    "    print(up8[up8[\"final_answer\"]==5].count())\n",
    "    up9=up[up[\"SecurityType\"]==\"ETN\"].withColumn(\"lag_column\",lag(\"EndPrice\",offset=1, default=0).over(Window.orderBy(col(\"Date\"))))\n",
    "    up10=up9.withColumn(\"final_result\",when(up9.EndPrice>up9.lag_column,lit(1)).otherwise(0)).withColumn(\"final_answer\",bet.sum(\"final_result\").over(Window.orderBy(col(\"Date\")).rowsBetween(-4,Window.currentRow)))\n",
    "    print(up10[up10[\"final_answer\"]==5].count())\n",
    "    #Down Trend\n",
    "    up11=up[up[\"SecurityType\"]==\"ETC\"].withColumn(\"lag_column\",lag(\"EndPrice\",offset=1, default=0).over(Window.orderBy(col(\"Date\"))))\n",
    "    up12=up11.withColumn(\"final_result\",when(up11.EndPrice<up11.lag_column,lit(1)).otherwise(0)).withColumn(\"final_answer\",bet.sum(\"final_result\").over(Window.orderBy(col(\"Date\")).rowsBetween(-4,Window.currentRow)))\n",
    "    print(\"Down trend\")\n",
    "    print(up12[up12[\"final_answer\"]==5].count())\n",
    "    up13=up[up[\"SecurityType\"]==\"ETF\"].withColumn(\"lag_column\",lag(\"EndPrice\",offset=1, default=0).over(Window.orderBy(col(\"Date\"))))\n",
    "    up14=up13.withColumn(\"final_result\",when(up13.EndPrice>up13.lag_column,lit(1)).otherwise(0)).withColumn(\"final_answer\",bet.sum(\"final_result\").over(Window.orderBy(col(\"Date\")).rowsBetween(-4,Window.currentRow)))\n",
    "    print(\"Fourth Question Answer- 5 Consecutive updays and Down days:SecurityType:ETF,Count:\",up14[up14[\"final_answer\"]==5].count())"
   ]
  },
  {
   "cell_type": "code",
   "execution_count": 38,
   "id": "98bddd0b",
   "metadata": {
    "scrolled": true
   },
   "outputs": [
    {
     "name": "stdout",
     "output_type": "stream",
     "text": [
      "+------------+\n",
      "|SecurityType|\n",
      "+------------+\n",
      "|         ETF|\n",
      "|Common stock|\n",
      "|         ETC|\n",
      "|       Other|\n",
      "|         ETN|\n",
      "+------------+\n",
      "\n",
      "First question Answer: 1123\n",
      "Second Question Answer below:\n",
      "+------------+--------+------------+--------+-------------------+--------------+------------+\n",
      "|        ISIN|Mnemonic|SecurityType|EndPrice|               Date|NumberOfTrades|TradedVolume|\n",
      "+------------+--------+------------+--------+-------------------+--------------+------------+\n",
      "|DE000A0KRJ36|    OD7L|         ETC|   0.026|2017-12-22 05:30:00|             1|     3664584|\n",
      "|SE0006027546|    SVAB|Common stock|   0.005|2017-11-20 05:30:00|             3|     3190868|\n",
      "|SE0006027546|    SVAB|Common stock|    0.01|2017-11-27 05:30:00|             3|     2342000|\n",
      "+------------+--------+------------+--------+-------------------+--------------+------------+\n",
      "\n",
      "0\n",
      "Third Question Answer-Which stock had highest number of Consecutive updays:SecurityType:ETF\n",
      "Fourth Question Answer-Consecutive updays:SecurityType:ETF,Count: 1\n",
      "0\n",
      "0\n",
      "0\n",
      "Down trend\n",
      "2\n",
      "Third Question Answer-Which stock had highest number of Consecutive updays:SecurityType:ETF\n",
      "Fourth Question Answer-Consecutive updays:SecurityType:ETF,Count: 1\n"
     ]
    }
   ],
   "source": [
    "if __name__ == \"__main__\":\n",
    "    # $example on:init_session$\n",
    "    spark = SparkSession \\\n",
    "        .builder \\\n",
    "        .appName(\"Python Spark wellsfargo\") \\\n",
    "        .config(\"spark.some.config.option\", \"some-value\") \\\n",
    "        .getOrCreate()\n",
    "    coding(spark)"
   ]
  },
  {
   "cell_type": "code",
   "execution_count": null,
   "id": "8b2bd4d4",
   "metadata": {},
   "outputs": [],
   "source": [
    "#spark.sql.execution.arrow.pyspark.enabled"
   ]
  }
 ],
 "metadata": {
  "kernelspec": {
   "display_name": "Python 3",
   "language": "python",
   "name": "python3"
  },
  "language_info": {
   "codemirror_mode": {
    "name": "ipython",
    "version": 3
   },
   "file_extension": ".py",
   "mimetype": "text/x-python",
   "name": "python",
   "nbconvert_exporter": "python",
   "pygments_lexer": "ipython3",
   "version": "3.8.8"
  }
 },
 "nbformat": 4,
 "nbformat_minor": 5
}
